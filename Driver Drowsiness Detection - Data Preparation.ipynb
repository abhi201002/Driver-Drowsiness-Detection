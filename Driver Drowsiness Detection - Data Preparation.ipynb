{
 "cells": [
  {
   "cell_type": "code",
   "execution_count": 30,
   "id": "8dc0011e",
   "metadata": {},
   "outputs": [],
   "source": [
    "import os\n",
    "from tqdm import tqdm\n",
    "import shutil\n",
    "import glob"
   ]
  },
  {
   "cell_type": "code",
   "execution_count": 31,
   "id": "35ce7c4e",
   "metadata": {},
   "outputs": [],
   "source": [
    "from os import listdir"
   ]
  },
  {
   "cell_type": "code",
   "execution_count": 37,
   "id": "7c2b4ba8",
   "metadata": {
    "scrolled": true
   },
   "outputs": [
    {
     "name": "stderr",
     "output_type": "stream",
     "text": [
      "0it [00:00, ?it/s]\n",
      "100%|██████████████████████████████████████████████████████████████████████████████| 3242/3242 [00:56<00:00, 57.25it/s]\n",
      "100%|██████████████████████████████████████████████████████████████████████████████| 1114/1114 [00:20<00:00, 53.84it/s]\n",
      "100%|████████████████████████████████████████████████████████████████████████████████| 679/679 [00:12<00:00, 56.05it/s]\n",
      "100%|██████████████████████████████████████████████████████████████████████████████| 1069/1069 [00:17<00:00, 59.72it/s]\n",
      "100%|████████████████████████████████████████████████████████████████████████████████| 736/736 [00:13<00:00, 54.98it/s]\n",
      "100%|██████████████████████████████████████████████████████████████████████████████| 1012/1012 [00:20<00:00, 49.82it/s]\n",
      "100%|████████████████████████████████████████████████████████████████████████████████| 624/624 [00:13<00:00, 45.18it/s]\n",
      "100%|████████████████████████████████████████████████████████████████████████████████| 832/832 [00:18<00:00, 45.66it/s]\n",
      "100%|████████████████████████████████████████████████████████████████████████████████| 387/387 [00:08<00:00, 46.49it/s]\n",
      "100%|████████████████████████████████████████████████████████████████████████████████| 399/399 [00:08<00:00, 45.00it/s]\n",
      "100%|██████████████████████████████████████████████████████████████████████████████| 1648/1648 [00:35<00:00, 46.40it/s]\n",
      "100%|██████████████████████████████████████████████████████████████████████████████| 8728/8728 [02:52<00:00, 50.47it/s]\n",
      "100%|██████████████████████████████████████████████████████████████████████████████| 3605/3605 [01:14<00:00, 48.44it/s]\n",
      "100%|██████████████████████████████████████████████████████████████████████████████| 8884/8884 [02:42<00:00, 54.82it/s]\n",
      "100%|██████████████████████████████████████████████████████████████████████████████| 1132/1132 [00:21<00:00, 51.79it/s]\n",
      "100%|██████████████████████████████████████████████████████████████████████████████| 1889/1889 [00:38<00:00, 49.33it/s]\n",
      "100%|██████████████████████████████████████████████████████████████████████████████| 1648/1648 [00:32<00:00, 51.31it/s]\n",
      "100%|██████████████████████████████████████████████████████████████████████████████| 4410/4410 [01:25<00:00, 51.88it/s]\n",
      "100%|██████████████████████████████████████████████████████████████████████████████| 6175/6175 [01:49<00:00, 56.30it/s]\n",
      "100%|████████████████████████████████████████████████████████████████████████████████| 704/704 [00:11<00:00, 58.98it/s]\n",
      "100%|████████████████████████████████████████████████████████████████████████████████| 987/987 [00:16<00:00, 58.20it/s]\n",
      "100%|████████████████████████████████████████████████████████████████████████████████| 382/382 [00:06<00:00, 56.60it/s]\n",
      "100%|████████████████████████████████████████████████████████████████████████████████| 522/522 [00:08<00:00, 59.14it/s]\n",
      "100%|████████████████████████████████████████████████████████████████████████████████| 752/752 [00:12<00:00, 59.83it/s]\n",
      "100%|██████████████████████████████████████████████████████████████████████████████| 1502/1502 [00:26<00:00, 57.26it/s]\n",
      "100%|██████████████████████████████████████████████████████████████████████████████| 1246/1246 [00:22<00:00, 55.87it/s]\n",
      "100%|████████████████████████████████████████████████████████████████████████████████| 665/665 [00:10<00:00, 61.97it/s]\n",
      "100%|████████████████████████████████████████████████████████████████████████████████| 736/736 [00:12<00:00, 60.02it/s]\n",
      "100%|██████████████████████████████████████████████████████████████████████████████| 1393/1393 [00:24<00:00, 57.65it/s]\n",
      "100%|██████████████████████████████████████████████████████████████████████████████| 1384/1384 [00:25<00:00, 54.47it/s]\n",
      "100%|██████████████████████████████████████████████████████████████████████████████| 1738/1738 [00:30<00:00, 57.69it/s]\n",
      "100%|██████████████████████████████████████████████████████████████████████████████| 6162/6162 [01:42<00:00, 60.30it/s]\n",
      "100%|████████████████████████████████████████████████████████████████████████████████| 681/681 [00:11<00:00, 57.52it/s]\n",
      "100%|████████████████████████████████████████████████████████████████████████████████| 739/739 [00:12<00:00, 56.92it/s]\n",
      "100%|████████████████████████████████████████████████████████████████████████████████| 642/642 [00:10<00:00, 59.45it/s]\n",
      "100%|██████████████████████████████████████████████████████████████████████████████| 6193/6193 [01:41<00:00, 60.72it/s]\n",
      "100%|████████████████████████████████████████████████████████████████████████████| 10257/10257 [02:54<00:00, 58.70it/s]\n"
     ]
    }
   ],
   "source": [
    "RAW_DIR = r'C:\\Users\\pgupt\\Documents\\DSP Project\\mrlEyes_2018_01'\n",
    "for dirpath,dirname,filenames in os.walk(RAW_DIR):\n",
    "    for i in tqdm([files for files in filenames if files.endswith('.png')]):\n",
    "        if i.split('_')[4] == '0' :\n",
    "            shutil.copy(src= dirpath + '/' + i,dst=r'C:\\Users\\pgupt\\Documents\\DSP Project\\New_data\\Closed_Eyes')\n",
    "        else:\n",
    "            shutil.copy(src= dirpath + '/' + i,dst=r'C:\\Users\\pgupt\\Documents\\DSP Project\\New_data\\Open_Eyes')\n",
    "#     print(filenames)"
   ]
  },
  {
   "cell_type": "code",
   "execution_count": 41,
   "id": "ad058b52",
   "metadata": {},
   "outputs": [],
   "source": [
    "import random"
   ]
  },
  {
   "cell_type": "code",
   "execution_count": null,
   "id": "729817ab",
   "metadata": {},
   "outputs": [],
   "source": []
  },
  {
   "cell_type": "code",
   "execution_count": 42,
   "id": "3b8bef52",
   "metadata": {},
   "outputs": [],
   "source": [
    "def create_test_closed(source, destination, percent):\n",
    "    '''\n",
    "    divides closed eyes images into given percent and moves from\n",
    "    source to destination.\n",
    "    \n",
    "    Arguments:\n",
    "    source(path): path of source directory\n",
    "    destination(path): path of destination directory\n",
    "    percent(float): percent of data to be divided(range: 0 to 1)\n",
    "    '''\n",
    "    path, dirs, files_closed = next(os.walk(source))\n",
    "    file_count_closed = len(files_closed)\n",
    "    percentage = file_count_closed * percent\n",
    "    to_move = random.sample(glob.glob(source + \"/*.png\"), int(percentage))\n",
    "\n",
    "    for f in enumerate(to_move):\n",
    "        if not os.path.exists(destination):\n",
    "            os.makedirs(destination)\n",
    "        shutil.move(f[1], destination)\n",
    "    print(f'moved {int(percentage)} images to the destination successfully.')  "
   ]
  },
  {
   "cell_type": "code",
   "execution_count": 43,
   "id": "1941eaff",
   "metadata": {},
   "outputs": [
    {
     "name": "stdout",
     "output_type": "stream",
     "text": [
      "moved 8389 images to the destination successfully.\n"
     ]
    }
   ],
   "source": [
    "create_test_closed(r'C:\\Users\\pgupt\\Documents\\DSP Project\\New_data\\Closed_Eyes',r'C:\\Users\\pgupt\\Documents\\DSP Project\\New_data\\Test\\Closed_Eyes',0.2)"
   ]
  },
  {
   "cell_type": "code",
   "execution_count": 44,
   "id": "6bb6a46d",
   "metadata": {},
   "outputs": [
    {
     "name": "stdout",
     "output_type": "stream",
     "text": [
      "moved 33557 images to the destination successfully.\n"
     ]
    }
   ],
   "source": [
    "create_test_closed(r'C:\\Users\\pgupt\\Documents\\DSP Project\\New_data\\Closed_Eyes',r'C:\\Users\\pgupt\\Documents\\DSP Project\\New_data\\Train\\Closed_Eyes',1)"
   ]
  },
  {
   "cell_type": "code",
   "execution_count": 45,
   "id": "cf2cc2de",
   "metadata": {},
   "outputs": [
    {
     "name": "stdout",
     "output_type": "stream",
     "text": [
      "moved 8590 images to the destination successfully.\n"
     ]
    }
   ],
   "source": [
    "create_test_closed(r'C:\\Users\\pgupt\\Documents\\DSP Project\\New_data\\Open_Eyes',r'C:\\Users\\pgupt\\Documents\\DSP Project\\New_data\\Test\\Open_Eyes',0.2)"
   ]
  },
  {
   "cell_type": "code",
   "execution_count": 46,
   "id": "fe3a5ac0",
   "metadata": {},
   "outputs": [
    {
     "name": "stdout",
     "output_type": "stream",
     "text": [
      "moved 34362 images to the destination successfully.\n"
     ]
    }
   ],
   "source": [
    "create_test_closed(r'C:\\Users\\pgupt\\Documents\\DSP Project\\New_data\\Open_Eyes',r'C:\\Users\\pgupt\\Documents\\DSP Project\\New_data\\Train\\Open_Eyes',1)"
   ]
  }
 ],
 "metadata": {
  "kernelspec": {
   "display_name": "Python 3 (ipykernel)",
   "language": "python",
   "name": "python3"
  },
  "language_info": {
   "codemirror_mode": {
    "name": "ipython",
    "version": 3
   },
   "file_extension": ".py",
   "mimetype": "text/x-python",
   "name": "python",
   "nbconvert_exporter": "python",
   "pygments_lexer": "ipython3",
   "version": "3.10.3"
  }
 },
 "nbformat": 4,
 "nbformat_minor": 5
}
